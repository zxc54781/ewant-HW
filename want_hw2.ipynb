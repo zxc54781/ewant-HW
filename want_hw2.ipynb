{
 "cells": [
  {
   "cell_type": "code",
   "execution_count": 9,
   "metadata": {},
   "outputs": [
    {
     "name": "stdout",
     "output_type": "stream",
     "text": [
      "Populating the interactive namespace from numpy and matplotlib\n"
     ]
    }
   ],
   "source": [
    "%matplotlib inline\n",
    "%pylab inline\n",
    "\n",
    "import numpy as np\n",
    "import matplotlib.pyplot as plt\n",
    "import matplotlib as mpl"
   ]
  },
  {
   "cell_type": "code",
   "execution_count": null,
   "metadata": {},
   "outputs": [],
   "source": []
  },
  {
   "cell_type": "markdown",
   "metadata": {},
   "source": [
    "# HW2_1"
   ]
  },
  {
   "cell_type": "code",
   "execution_count": 17,
   "metadata": {},
   "outputs": [
    {
     "name": "stdout",
     "output_type": "stream",
     "text": [
      "輸入你的數字50\n",
      "你可以猜大一點\n",
      "輸入你的數字70\n",
      "你可以猜小一點\n",
      "輸入你的數字65\n",
      "你可以猜小一點\n",
      "輸入你的數字57\n",
      "你可以猜小一點\n",
      "輸入你的數字53\n",
      "你可以猜大一點\n",
      "輸入你的數字54\n",
      "你可以猜大一點\n",
      "輸入你的數字55\n",
      "你猜對了\n"
     ]
    }
   ],
   "source": [
    "in_ans = [ ]\n",
    "ans = randint(1,100)\n",
    "while in_ans != ans :\n",
    "    in_ans=int(input(\"輸入你的數字\"))\n",
    "    if in_ans > ans :\n",
    "        print('你可以猜小一點')\n",
    "    elif in_ans<ans:\n",
    "        print('你可以猜大一點')\n",
    "    else :\n",
    "        print('你猜對了')"
   ]
  },
  {
   "cell_type": "code",
   "execution_count": null,
   "metadata": {},
   "outputs": [],
   "source": []
  },
  {
   "cell_type": "markdown",
   "metadata": {},
   "source": [
    "# HW2_2"
   ]
  },
  {
   "cell_type": "code",
   "execution_count": 33,
   "metadata": {},
   "outputs": [
    {
     "name": "stdout",
     "output_type": "stream",
     "text": [
      "你想說什麼 ：  我有一個發大財的夢\n",
      "                                \n",
      "讚嘆韓4長,感恩韓4長\n",
      "                                \n",
      "你想說什麼 ：  這樣我就能買勞斯萊斯\n",
      "                                \n",
      "讚嘆師父,感恩師父\n",
      "                                \n",
      "你想說什麼 ：  先這樣拉bye\n",
      "                                \n",
      "你知道師傅跟韓4長有什麼共同點嗎\n",
      "        他們都是『 騙子 』＾＾\n"
     ]
    }
   ],
   "source": [
    "message =\" \"\n",
    "keyword =\"勞斯萊斯\"\n",
    "while message != 'bye':\n",
    "    message = input('你想說什麼 ：  ')\n",
    "    if keyword in message :  ## 你也可以把 if 的條件用小括號括起來！\n",
    "        print(\"                                \")\n",
    "        print('讚嘆師父,感恩師父')\n",
    "        print(\"                                \")\n",
    "    elif \"發大財\"in message:\n",
    "        print(\"                                \")\n",
    "        print('讚嘆韓4長,感恩韓4長')\n",
    "        print(\"                                \")\n",
    "    elif 'bye' in message :\n",
    "        print(\"                                \")\n",
    "        print('''你知道師傅跟韓4長有什麼共同點嗎\n",
    "        他們都是『 騙子 』＾＾''')\n",
    "        break \n",
    "        "
   ]
  },
  {
   "cell_type": "code",
   "execution_count": null,
   "metadata": {},
   "outputs": [],
   "source": []
  },
  {
   "cell_type": "markdown",
   "metadata": {},
   "source": [
    "# HW2_3"
   ]
  },
  {
   "cell_type": "code",
   "execution_count": 106,
   "metadata": {},
   "outputs": [],
   "source": [
    "def inverse (x):\n",
    "    str=\"\" #由於要用來連接必須空白不然會跑出奇怪的東西\n",
    "    A=[ ]   \n",
    "    x=list(x)\n",
    "    n=len(x) #算字串\n",
    "    for i in range (1,(n+1)):\n",
    "        a=x[-i]\n",
    "        A.append(a) #把結果存到Ａ\n",
    "    print(str.join(A)) #印出來"
   ]
  },
  {
   "cell_type": "code",
   "execution_count": 107,
   "metadata": {},
   "outputs": [
    {
     "name": "stdout",
     "output_type": "stream",
     "text": [
      "中國甲賽\n"
     ]
    }
   ],
   "source": [
    "inverse('賽甲國中')"
   ]
  },
  {
   "cell_type": "code",
   "execution_count": null,
   "metadata": {},
   "outputs": [],
   "source": []
  },
  {
   "cell_type": "markdown",
   "metadata": {},
   "source": [
    "# HW2_4"
   ]
  },
  {
   "cell_type": "code",
   "execution_count": 123,
   "metadata": {},
   "outputs": [],
   "source": [
    "def 天干地支 (x):\n",
    "    str=\"\"\n",
    "    A=[ ]\n",
    "    S=list('甲乙丙丁戊己庚辛壬癸')\n",
    "    G=list('子醜寅卯辰巳午未申酉戌亥')\n",
    "    s=(x-2014)%10\n",
    "    g=(x-2014+6)%12\n",
    "    A.append(S[s])\n",
    "    A.append(G[g])\n",
    "    print(' {}年 是 {}年！'.format(x,str.join(A)))\n",
    "\n"
   ]
  },
  {
   "cell_type": "code",
   "execution_count": 124,
   "metadata": {},
   "outputs": [
    {
     "name": "stdout",
     "output_type": "stream",
     "text": [
      " 2014年 是 甲午年！\n"
     ]
    }
   ],
   "source": [
    "天干地支(2014)"
   ]
  },
  {
   "cell_type": "code",
   "execution_count": 125,
   "metadata": {},
   "outputs": [
    {
     "name": "stdout",
     "output_type": "stream",
     "text": [
      " 2073年 是 癸巳年！\n"
     ]
    }
   ],
   "source": [
    "天干地支(2073)"
   ]
  },
  {
   "cell_type": "code",
   "execution_count": 127,
   "metadata": {},
   "outputs": [
    {
     "name": "stdout",
     "output_type": "stream",
     "text": [
      " 2014年 是 甲午年！\n",
      " 2015年 是 乙未年！\n",
      " 2016年 是 丙申年！\n",
      " 2017年 是 丁酉年！\n",
      " 2018年 是 戊戌年！\n",
      " 2019年 是 己亥年！\n",
      " 2020年 是 庚子年！\n",
      " 2021年 是 辛醜年！\n",
      " 2022年 是 壬寅年！\n",
      " 2023年 是 癸卯年！\n",
      " 2024年 是 甲辰年！\n",
      " 2025年 是 乙巳年！\n",
      " 2026年 是 丙午年！\n",
      " 2027年 是 丁未年！\n",
      " 2028年 是 戊申年！\n",
      " 2029年 是 己酉年！\n",
      " 2030年 是 庚戌年！\n",
      " 2031年 是 辛亥年！\n",
      " 2032年 是 壬子年！\n",
      " 2033年 是 癸醜年！\n",
      " 2034年 是 甲寅年！\n",
      " 2035年 是 乙卯年！\n",
      " 2036年 是 丙辰年！\n",
      " 2037年 是 丁巳年！\n",
      " 2038年 是 戊午年！\n",
      " 2039年 是 己未年！\n",
      " 2040年 是 庚申年！\n",
      " 2041年 是 辛酉年！\n",
      " 2042年 是 壬戌年！\n",
      " 2043年 是 癸亥年！\n",
      " 2044年 是 甲子年！\n",
      " 2045年 是 乙醜年！\n",
      " 2046年 是 丙寅年！\n",
      " 2047年 是 丁卯年！\n",
      " 2048年 是 戊辰年！\n",
      " 2049年 是 己巳年！\n",
      " 2050年 是 庚午年！\n",
      " 2051年 是 辛未年！\n",
      " 2052年 是 壬申年！\n",
      " 2053年 是 癸酉年！\n",
      " 2054年 是 甲戌年！\n",
      " 2055年 是 乙亥年！\n",
      " 2056年 是 丙子年！\n",
      " 2057年 是 丁醜年！\n",
      " 2058年 是 戊寅年！\n",
      " 2059年 是 己卯年！\n",
      " 2060年 是 庚辰年！\n",
      " 2061年 是 辛巳年！\n",
      " 2062年 是 壬午年！\n",
      " 2063年 是 癸未年！\n",
      " 2064年 是 甲申年！\n",
      " 2065年 是 乙酉年！\n",
      " 2066年 是 丙戌年！\n",
      " 2067年 是 丁亥年！\n",
      " 2068年 是 戊子年！\n",
      " 2069年 是 己醜年！\n",
      " 2070年 是 庚寅年！\n",
      " 2071年 是 辛卯年！\n",
      " 2072年 是 壬辰年！\n",
      " 2073年 是 癸巳年！\n"
     ]
    }
   ],
   "source": [
    "for i in range (2014,2074):\n",
    "    天干地支(i)"
   ]
  },
  {
   "cell_type": "code",
   "execution_count": null,
   "metadata": {},
   "outputs": [],
   "source": []
  },
  {
   "cell_type": "markdown",
   "metadata": {},
   "source": [
    "# HW2_5"
   ]
  },
  {
   "cell_type": "code",
   "execution_count": 158,
   "metadata": {},
   "outputs": [],
   "source": [
    "def tree (x):\n",
    "    for i in range (0,x):\n",
    "        print(2*(x-i)*' '+(2*i+1)*'★'+2*(x-i)*' ')"
   ]
  },
  {
   "cell_type": "code",
   "execution_count": 160,
   "metadata": {},
   "outputs": [
    {
     "name": "stdout",
     "output_type": "stream",
     "text": [
      "                              ★                              \n",
      "                            ★★★                            \n",
      "                          ★★★★★                          \n",
      "                        ★★★★★★★                        \n",
      "                      ★★★★★★★★★                      \n",
      "                    ★★★★★★★★★★★                    \n",
      "                  ★★★★★★★★★★★★★                  \n",
      "                ★★★★★★★★★★★★★★★                \n",
      "              ★★★★★★★★★★★★★★★★★              \n",
      "            ★★★★★★★★★★★★★★★★★★★            \n",
      "          ★★★★★★★★★★★★★★★★★★★★★          \n",
      "        ★★★★★★★★★★★★★★★★★★★★★★★        \n",
      "      ★★★★★★★★★★★★★★★★★★★★★★★★★      \n",
      "    ★★★★★★★★★★★★★★★★★★★★★★★★★★★    \n",
      "  ★★★★★★★★★★★★★★★★★★★★★★★★★★★★★  \n"
     ]
    }
   ],
   "source": [
    "tree(15)"
   ]
  },
  {
   "cell_type": "code",
   "execution_count": null,
   "metadata": {},
   "outputs": [],
   "source": []
  },
  {
   "cell_type": "markdown",
   "metadata": {},
   "source": [
    "# HW2_6"
   ]
  },
  {
   "cell_type": "markdown",
   "metadata": {},
   "source": [
    "* 隨著deadline 接近 又想不到要寫什麼，就寫一個很簡單的看contact經過 transfer 之後會變好幾％好了"
   ]
  },
  {
   "cell_type": "code",
   "execution_count": 182,
   "metadata": {},
   "outputs": [],
   "source": [
    "def after_transfer (x1,x2):\n",
    "    # str=' %'\n",
    "    x1=np.array(x1)\n",
    "    x2=np.array(x2)\n",
    "    x3=np.array(x2/x1)*100\n",
    "    \n",
    "    print(x3)\n",
    "    "
   ]
  },
  {
   "cell_type": "code",
   "execution_count": 226,
   "metadata": {},
   "outputs": [],
   "source": [
    "def after_transfer (x1,x2):\n",
    "    A=[ ]\n",
    "    x1=np.array(x1)\n",
    "    x2=np.array(x2)\n",
    "    x3=np.array(x2/x1)*100\n",
    "    n=len(x1)\n",
    "    for i in range (0,n):\n",
    "        x3=x3[1]\n",
    "        x3=('{} %'.format(x3))\n",
    "        A.append(x3)\n",
    "        print(A)\n",
    "        \n",
    "        \n",
    "        \n",
    "    \n",
    "    "
   ]
  },
  {
   "cell_type": "code",
   "execution_count": 227,
   "metadata": {},
   "outputs": [
    {
     "name": "stdout",
     "output_type": "stream",
     "text": [
      "['10.0 %']\n",
      "['10.0 %', '0 %']\n",
      "['10.0 %', '0 %', '  %']\n"
     ]
    }
   ],
   "source": [
    "x1=[10,20,30]\n",
    "x2=[1,2,3]\n",
    "after_transfer(x1,x2)"
   ]
  },
  {
   "cell_type": "code",
   "execution_count": 213,
   "metadata": {},
   "outputs": [
    {
     "data": {
      "text/plain": [
       "3"
      ]
     },
     "execution_count": 213,
     "metadata": {},
     "output_type": "execute_result"
    }
   ],
   "source": [
    "len(x1)"
   ]
  },
  {
   "cell_type": "code",
   "execution_count": null,
   "metadata": {},
   "outputs": [],
   "source": []
  }
 ],
 "metadata": {
  "kernelspec": {
   "display_name": "Python 3",
   "language": "python",
   "name": "python3"
  },
  "language_info": {
   "codemirror_mode": {
    "name": "ipython",
    "version": 3
   },
   "file_extension": ".py",
   "mimetype": "text/x-python",
   "name": "python",
   "nbconvert_exporter": "python",
   "pygments_lexer": "ipython3",
   "version": "3.7.1"
  }
 },
 "nbformat": 4,
 "nbformat_minor": 2
}
