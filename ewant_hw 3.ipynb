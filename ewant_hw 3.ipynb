{
 "cells": [
  {
   "cell_type": "markdown",
   "metadata": {},
   "source": [
    "## Hw3-1"
   ]
  },
  {
   "cell_type": "code",
   "execution_count": 84,
   "metadata": {},
   "outputs": [],
   "source": [
    "%matplotlib inline\n",
    "import numpy as np \n",
    "import matplotlib.pyplot as plt\n",
    "import matplotlib as mpl\n",
    "from matplotlib.font_manager import findfont, FontProperties\n",
    "FontPropertiesfont = FontProperties(fname='/Library/Fonts/NotoSansMonoCJKtc-Regular.otf')\n",
    "mpl.rc('font', family='Noto Sans CJK TC')"
   ]
  },
  {
   "cell_type": "code",
   "execution_count": 29,
   "metadata": {},
   "outputs": [
    {
     "name": "stdout",
     "output_type": "stream",
     "text": [
      "A班的成績為48.36\n",
      "      B班的成績為54.63\n",
      "      C班的成績為53.16\n"
     ]
    }
   ],
   "source": [
    "np.set_printoptions(precision=2)\n",
    "A= np.random.rand(50)\n",
    "A=A*100\n",
    "A=A.reshape(10,5)\n",
    "\n",
    "B=np.random.rand(50)\n",
    "B=B*100\n",
    "B=B.reshape(10,5)\n",
    "\n",
    "C=np.random.rand(50)\n",
    "C=C*100\n",
    "C=C.reshape(10,5)\n",
    "\n",
    "weights=[0.25,0.25,0.25,0.15,0.10]\n",
    "A=np.dot(A,weights)\n",
    "B=np.dot(B,weights)\n",
    "C=np.dot(C,weights)\n",
    "\n",
    "A=round(np.mean(A),2)\n",
    "B=round(np.mean(B),2)\n",
    "C=round(np.mean(C),2)\n",
    "\n",
    "\n",
    "\n",
    "print('''A班的成績為{}\n",
    "      B班的成績為{}\n",
    "      C班的成績為{}'''.format(A,B,C))\n"
   ]
  },
  {
   "cell_type": "markdown",
   "metadata": {},
   "source": [
    "## HW3-2"
   ]
  },
  {
   "cell_type": "code",
   "execution_count": 85,
   "metadata": {},
   "outputs": [
    {
     "name": "stdout",
     "output_type": "stream",
     "text": [
      "最高分85.36\n",
      "         最低分0.4\n",
      "         及格人數10\n",
      "         平均分數39.92\n",
      "         標準差25.3\n"
     ]
    },
    {
     "data": {
      "text/plain": [
       "Text(0, 0.5, '人數')"
      ]
     },
     "execution_count": 85,
     "metadata": {},
     "output_type": "execute_result"
    },
    {
     "data": {
      "image/png": "[encoded data removed]",
      "text/plain": [
       "<Figure size 432x288 with 1 Axes>"
      ]
     },
     "metadata": {
      "needs_background": "light"
     },
     "output_type": "display_data"
    }
   ],
   "source": [
    "Sunflower=np.random.rand(40)\n",
    "#Sunflower=np.array([9,18,26,35,54,67,88,92])\n",
    "SF=Sunflower*100\n",
    "Top=round(np.max(SF),2)\n",
    "Low=round(np.min(SF),2)\n",
    "pax=round(len(SF[SF>60]),2)\n",
    "mean=round(np.mean(SF),2) \n",
    "std=round(np.std(SF),2)\n",
    "x=np.linspace(0,100,10)\n",
    "y= [ ]\n",
    "num=0\n",
    "for i  in range(10) :\n",
    "    l=i*10\n",
    "    T=(i+1)*10\n",
    "    num=len(SF[SF<T])-np.sum(y)\n",
    "    y.append(num)\n",
    "print('''最高分{}\n",
    "         最低分{}\n",
    "         及格人數{}\n",
    "         平均分數{}\n",
    "         標準差{}'''.format(Top,Low,pax,mean,std))\n",
    "\n",
    "plt.bar(x,y)\n",
    "plt.xlabel('分數')\n",
    "plt.ylabel('人數')"
   ]
  },
  {
   "cell_type": "code",
   "execution_count": 60,
   "metadata": {},
   "outputs": [
    {
     "data": {
      "text/plain": [
       "0"
      ]
     },
     "execution_count": 60,
     "metadata": {},
     "output_type": "execute_result"
    }
   ],
   "source": [
    "len(SF[SF>T]) -np.sum(num)"
   ]
  },
  {
   "cell_type": "code",
   "execution_count": 75,
   "metadata": {},
   "outputs": [
    {
     "data": {
      "text/plain": [
       "[1, 1, 2, 2, 2, 3, 3, 3, 4, 3]"
      ]
     },
     "execution_count": 75,
     "metadata": {},
     "output_type": "execute_result"
    }
   ],
   "source": [
    "for i  in range(10) :\n",
    "    l=i*10\n",
    "    T=(i+1)*10\n",
    "    num=len(SF[l<SF<T])-np.sum(y)\n",
    "    y.append(num)"
   ]
  },
  {
   "cell_type": "code",
   "execution_count": 79,
   "metadata": {},
   "outputs": [
    {
     "data": {
      "text/plain": [
       "[1.0, 1.0, 1.0, 1.0, 0.0, 1.0, 1.0, 0.0, 1.0, 0.0]"
      ]
     },
     "execution_count": 79,
     "metadata": {},
     "output_type": "execute_result"
    }
   ],
   "source": [
    "y"
   ]
  },
  {
   "cell_type": "code",
   "execution_count": null,
   "metadata": {},
   "outputs": [],
   "source": []
  },
  {
   "cell_type": "markdown",
   "metadata": {},
   "source": [
    "## Hw 3-3"
   ]
  },
  {
   "cell_type": "code",
   "execution_count": null,
   "metadata": {},
   "outputs": [],
   "source": [
    "def test (x,y,z):\n",
    "    "
   ]
  }
 ],
 "metadata": {
  "kernelspec": {
   "display_name": "Python 3",
   "language": "python",
   "name": "python3"
  },
  "language_info": {
   "codemirror_mode": {
    "name": "ipython",
    "version": 3
   },
   "file_extension": ".py",
   "mimetype": "text/x-python",
   "name": "python",
   "nbconvert_exporter": "python",
   "pygments_lexer": "ipython3",
   "version": "3.7.1"
  }
 },
 "nbformat": 4,
 "nbformat_minor": 2
}
