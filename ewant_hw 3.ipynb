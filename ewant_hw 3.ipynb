{
 "cells": [
  {
   "cell_type": "markdown",
   "metadata": {},
   "source": [
    "## Hw3-1"
   ]
  },
  {
   "cell_type": "code",
   "execution_count": 84,
   "metadata": {},
   "outputs": [],
   "source": [
    "%matplotlib inline\n",
    "import numpy as np \n",
    "import matplotlib.pyplot as plt\n",
    "import matplotlib as mpl\n",
    "from matplotlib.font_manager import findfont, FontProperties\n",
    "FontPropertiesfont = FontProperties(fname='/Library/Fonts/NotoSansMonoCJKtc-Regular.otf')\n",
    "mpl.rc('font', family='Noto Sans CJK TC')"
   ]
  },
  {
   "cell_type": "code",
   "execution_count": 29,
   "metadata": {},
   "outputs": [
    {
     "name": "stdout",
     "output_type": "stream",
     "text": [
      "A班的成績為48.36\n",
      "      B班的成績為54.63\n",
      "      C班的成績為53.16\n"
     ]
    }
   ],
   "source": [
    "np.set_printoptions(precision=2)\n",
    "A= np.random.rand(50)\n",
    "A=A*100\n",
    "A=A.reshape(10,5)\n",
    "\n",
    "B=np.random.rand(50)\n",
    "B=B*100\n",
    "B=B.reshape(10,5)\n",
    "\n",
    "C=np.random.rand(50)\n",
    "C=C*100\n",
    "C=C.reshape(10,5)\n",
    "\n",
    "weights=[0.25,0.25,0.25,0.15,0.10]\n",
    "A=np.dot(A,weights)\n",
    "B=np.dot(B,weights)\n",
    "C=np.dot(C,weights)\n",
    "\n",
    "A=round(np.mean(A),2)\n",
    "B=round(np.mean(B),2)\n",
    "C=round(np.mean(C),2)\n",
    "\n",
    "\n",
    "\n",
    "print('''A班的成績為{}\n",
    "      B班的成績為{}\n",
    "      C班的成績為{}'''.format(A,B,C))\n"
   ]
  },
  {
   "cell_type": "markdown",
   "metadata": {},
   "source": [
    "## HW3-2"
   ]
  },
  {
   "cell_type": "code",
   "execution_count": 85,
   "metadata": {},
   "outputs": [
    {
     "name": "stdout",
     "output_type": "stream",
     "text": [
      "最高分85.36\n",
      "         最低分0.4\n",
      "         及格人數10\n",
      "         平均分數39.92\n",
      "         標準差25.3\n"
     ]
    },
    {
     "data": {
      "text/plain": [
       "Text(0, 0.5, '人數')"
      ]
     },
     "execution_count": 85,
     "metadata": {},
     "output_type": "execute_result"
    },
    {
     "data": {
      "image/png": "[encoded data removed]",
      "text/plain": [
       "<Figure size 432x288 with 1 Axes>"
      ]
     },
     "metadata": {
      "needs_background": "light"
     },
     "output_type": "display_data"
    }
   ],
   "source": [
    "Sunflower=np.random.rand(40)\n",
    "#Sunflower=np.array([9,18,26,35,54,67,88,92])\n",
    "SF=Sunflower*100\n",
    "Top=round(np.max(SF),2)\n",
    "Low=round(np.min(SF),2)\n",
    "pax=round(len(SF[SF>60]),2)\n",
    "mean=round(np.mean(SF),2) \n",
    "std=round(np.std(SF),2)\n",
    "x=np.linspace(0,100,10)\n",
    "y= [ ]\n",
    "num=0\n",
    "for i  in range(10) :\n",
    "    l=i*10\n",
    "    T=(i+1)*10\n",
    "    num=len(SF[SF<T])-np.sum(y)\n",
    "    y.append(num)\n",
    "print('''最高分{}\n",
    "         最低分{}\n",
    "         及格人數{}\n",
    "         平均分數{}\n",
    "         標準差{}'''.format(Top,Low,pax,mean,std))\n",
    "\n",
    "plt.bar(x,y)\n",
    "plt.xlabel('分數')\n",
    "plt.ylabel('人數')"
   ]
  },
  {
   "cell_type": "code",
   "execution_count": 60,
   "metadata": {},
   "outputs": [
    {
     "data": {
      "text/plain": [
       "0"
      ]
     },
     "execution_count": 60,
     "metadata": {},
     "output_type": "execute_result"
    }
   ],
   "source": [
    "len(SF[SF>T]) -np.sum(num)"
   ]
  },
  {
   "cell_type": "code",
   "execution_count": 75,
   "metadata": {},
   "outputs": [
    {
     "data": {
      "text/plain": [
       "[1, 1, 2, 2, 2, 3, 3, 3, 4, 3]"
      ]
     },
     "execution_count": 75,
     "metadata": {},
     "output_type": "execute_result"
    }
   ],
   "source": [
    "for i  in range(10) :\n",
    "    l=i*10\n",
    "    T=(i+1)*10\n",
    "    num=len(SF[l<SF<T])-np.sum(y)\n",
    "    y.append(num)"
   ]
  },
  {
   "cell_type": "code",
   "execution_count": 79,
   "metadata": {},
   "outputs": [
    {
     "data": {
      "text/plain": [
       "[1.0, 1.0, 1.0, 1.0, 0.0, 1.0, 1.0, 0.0, 1.0, 0.0]"
      ]
     },
     "execution_count": 79,
     "metadata": {},
     "output_type": "execute_result"
    }
   ],
   "source": [
    "y"
   ]
  },
  {
   "cell_type": "code",
   "execution_count": null,
   "metadata": {},
   "outputs": [],
   "source": []
  },
  {
   "cell_type": "markdown",
   "metadata": {},
   "source": [
    "## Hw 3-3"
   ]
  },
  {
   "cell_type": "code",
   "execution_count": 202,
   "metadata": {},
   "outputs": [],
   "source": [
    "\n",
    "def AC (x,y,z,X):\n",
    "    tot=[]\n",
    "    weights0=np.array([0.2,0.35,0.45])\n",
    "    weights1=np.array([0,0.4,0.6])\n",
    "    A=weights0.reshape(x,1)\n",
    "    B=weights1.reshape(x,1)\n",
    "    for i in range (x):\n",
    "        for j in range(y):\n",
    "            xj=X[i, j, :]\n",
    "            yj=np.dot(xj ,A)\n",
    "            zj=np.dot(xj ,B)\n",
    "            if yj>zj :\n",
    "                tot.append(yj)\n",
    "            elif yj<zj :\n",
    "                tot.append(zj)\n",
    "            else :\n",
    "                tot.append(yj)\n",
    "    tot1=np.array(tot)\n",
    "    tot1=tot1.reshape(x,y,1)\n",
    "    print(tot1,end=\" \")\n",
    "    return\n"
   ]
  },
  {
   "cell_type": "code",
   "execution_count": 203,
   "metadata": {},
   "outputs": [
    {
     "name": "stdout",
     "output_type": "stream",
     "text": [
      "[[[67.6 ]\n",
      "  [46.75]\n",
      "  [18.6 ]\n",
      "  [69.2 ]\n",
      "  [77.5 ]\n",
      "  [33.8 ]\n",
      "  [35.4 ]\n",
      "  [59.6 ]\n",
      "  [37.  ]\n",
      "  [24.  ]\n",
      "  [27.2 ]\n",
      "  [43.05]\n",
      "  [81.8 ]\n",
      "  [48.6 ]\n",
      "  [18.4 ]\n",
      "  [37.8 ]\n",
      "  [62.6 ]\n",
      "  [67.6 ]\n",
      "  [18.4 ]\n",
      "  [22.1 ]\n",
      "  [57.85]\n",
      "  [40.6 ]\n",
      "  [45.05]\n",
      "  [61.  ]\n",
      "  [69.15]\n",
      "  [15.3 ]\n",
      "  [19.8 ]\n",
      "  [43.6 ]\n",
      "  [79.6 ]\n",
      "  [20.05]]\n",
      "\n",
      " [[21.95]\n",
      "  [91.2 ]\n",
      "  [41.85]\n",
      "  [50.85]\n",
      "  [74.2 ]\n",
      "  [55.9 ]\n",
      "  [26.  ]\n",
      "  [83.8 ]\n",
      "  [70.  ]\n",
      "  [67.8 ]\n",
      "  [80.9 ]\n",
      "  [53.4 ]\n",
      "  [61.4 ]\n",
      "  [88.4 ]\n",
      "  [65.8 ]\n",
      "  [29.8 ]\n",
      "  [17.6 ]\n",
      "  [79.2 ]\n",
      "  [79.6 ]\n",
      "  [83.  ]\n",
      "  [29.65]\n",
      "  [42.5 ]\n",
      "  [48.8 ]\n",
      "  [37.2 ]\n",
      "  [50.65]\n",
      "  [61.  ]\n",
      "  [19.  ]\n",
      "  [26.  ]\n",
      "  [16.2 ]\n",
      "  [69.2 ]]\n",
      "\n",
      " [[83.8 ]\n",
      "  [38.6 ]\n",
      "  [82.15]\n",
      "  [35.15]\n",
      "  [52.8 ]\n",
      "  [89.  ]\n",
      "  [30.8 ]\n",
      "  [38.35]\n",
      "  [64.1 ]\n",
      "  [63.4 ]\n",
      "  [37.2 ]\n",
      "  [70.25]\n",
      "  [93.05]\n",
      "  [67.  ]\n",
      "  [35.3 ]\n",
      "  [66.8 ]\n",
      "  [30.5 ]\n",
      "  [44.4 ]\n",
      "  [53.4 ]\n",
      "  [64.2 ]\n",
      "  [11.6 ]\n",
      "  [27.45]\n",
      "  [62.85]\n",
      "  [43.  ]\n",
      "  [39.8 ]\n",
      "  [51.6 ]\n",
      "  [51.6 ]\n",
      "  [42.8 ]\n",
      "  [50.85]\n",
      "  [67.5 ]]] "
     ]
    }
   ],
   "source": [
    "X=np.random.randint(0,100,[3,30,3])\n",
    "AC(3,30,3,X)\n"
   ]
  },
  {
   "cell_type": "markdown",
   "metadata": {},
   "source": [
    "## HW3-4"
   ]
  },
  {
   "cell_type": "code",
   "execution_count": 230,
   "metadata": {},
   "outputs": [],
   "source": [
    "X=np.random.randn(3,5)\n",
    "X=X+1\n",
    "\n",
    "def matix (x,y,X):\n",
    "    tran=[]\n",
    "    for i in range (x):\n",
    "        for j in range(y):\n",
    "            xj=X[i, j, ]\n",
    "            if xj>=1:\n",
    "                xj=1\n",
    "                tran.append(xj)\n",
    "            elif xj<1:\n",
    "                xj=0\n",
    "                tran.append(xj)\n",
    "    tran=np.array(tran)\n",
    "    tran=tran.reshape(3,5)\n",
    "    print(tran)"
   ]
  },
  {
   "cell_type": "code",
   "execution_count": 231,
   "metadata": {},
   "outputs": [
    {
     "name": "stdout",
     "output_type": "stream",
     "text": [
      "[[1 1 1 0 0]\n",
      " [0 1 0 1 0]\n",
      " [1 1 1 1 0]]\n"
     ]
    }
   ],
   "source": [
    "matix(3,5,X)"
   ]
  },
  {
   "cell_type": "code",
   "execution_count": 232,
   "metadata": {},
   "outputs": [
    {
     "data": {
      "text/plain": [
       "array([[ 1.56,  3.43,  3.35,  0.22,  0.94],\n",
       "       [ 0.5 ,  1.9 , -1.09,  1.57,  0.64],\n",
       "       [ 1.17,  1.07,  1.18,  1.21, -0.19]])"
      ]
     },
     "execution_count": 232,
     "metadata": {},
     "output_type": "execute_result"
    }
   ],
   "source": [
    "X"
   ]
  },
  {
   "cell_type": "code",
   "execution_count": null,
   "metadata": {},
   "outputs": [],
   "source": []
  }
 ],
 "metadata": {
  "kernelspec": {
   "display_name": "Python 3",
   "language": "python",
   "name": "python3"
  },
  "language_info": {
   "codemirror_mode": {
    "name": "ipython",
    "version": 3
   },
   "file_extension": ".py",
   "mimetype": "text/x-python",
   "name": "python",
   "nbconvert_exporter": "python",
   "pygments_lexer": "ipython3",
   "version": "3.7.1"
  }
 },
 "nbformat": 4,
 "nbformat_minor": 2
}
